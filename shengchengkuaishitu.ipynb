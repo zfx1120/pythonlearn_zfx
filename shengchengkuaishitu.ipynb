{
 "cells": [
  {
   "cell_type": "markdown",
   "id": "23210841",
   "metadata": {},
   "source": [
    "#生成快视图"
   ]
  },
  {
   "cell_type": "code",
   "execution_count": null,
   "id": "8bb935d5",
   "metadata": {},
   "outputs": [],
   "source": [
    "import os\n",
    "import numpy as np\n",
    "from osgeo import gdal\n",
    "from PIL import Image\n",
    "\n",
    "# 配置参数\n",
    "input_dir = r\"D:\\hupoxiazai\\avg_46.7178_124.1012\"   \n",
    "output_dir = input_dir # 输出图像保存目录\n",
    "red_band = 16 # 红色波段索引 (1-based)\n",
    "green_band = 5 # 绿色波段索引\n",
    "blue_band = 3 # 蓝色波段索引\n",
    "\n",
    "\n",
    "# 创建输出目录\n",
    "os.makedirs(output_dir, exist_ok=True)\n",
    "\n",
    "\n",
    "def normalize_band(band_data):\n",
    "# \"\"\"归一化波段数据到0-255范围\"\"\"\n",
    "    min_val = np.nanpercentile(band_data, 30)# 2%分位数\n",
    "    max_val = np.nanpercentile(band_data, 82) # 98%分位数\n",
    "    normalized = (band_data - min_val) / (max_val - min_val) * 255\n",
    "    return np.clip(normalized, 0, 255).astype(np.uint8)\n",
    "\n",
    "\n",
    "def process_tif(tif_path, output_path):\n",
    "# \"\"\"处理单个TIFF文件\"\"\"\n",
    "    try:\n",
    "    # 打开TIFF文件\n",
    "        dataset = gdal.Open(tif_path)\n",
    "        if not dataset:\n",
    "            print(f\"无法打开文件: {tif_path}\")\n",
    "            return\n",
    "\n",
    "# 读取指定波段\n",
    "        red = dataset.GetRasterBand(red_band).ReadAsArray()\n",
    "        green = dataset.GetRasterBand(green_band).ReadAsArray()\n",
    "        blue = dataset.GetRasterBand(blue_band).ReadAsArray()\n",
    "\n",
    "        # 归一化波段\n",
    "        red_norm = normalize_band(red)\n",
    "        green_norm = normalize_band(green)\n",
    "        blue_norm = normalize_band(blue)\n",
    "\n",
    "        # 合并RGB通道\n",
    "        rgb_array = np.dstack((red_norm, green_norm, blue_norm))\n",
    "\n",
    "        # 创建并保存图像\n",
    "        img = Image.fromarray(rgb_array)\n",
    "        img.save(output_path)\n",
    "        print(f\"成功保存: {output_path}\")\n",
    "\n",
    "    except Exception as e:\n",
    "        print(f\"处理 {tif_path} 时出错: {str(e)}\")\n",
    "    \n",
    "\n",
    "# 批量处理所有TIFF文件\n",
    "for filename in os.listdir(input_dir):\n",
    "    if filename.lower().endswith(('.tif')):\n",
    "        input_path = os.path.join(input_dir, filename)\n",
    "        output_path = os.path.join(output_dir, f\"{os.path.splitext(filename)[0]}.png\")\n",
    "        process_tif(input_path, output_path)\n",
    "\n",
    "print(\"所有文件处理完成！\")"
   ]
  }
 ],
 "metadata": {
  "kernelspec": {
   "display_name": "pytorchgpu",
   "language": "python",
   "name": "python3"
  },
  "language_info": {
   "name": "python",
   "version": "3.9.23"
  }
 },
 "nbformat": 4,
 "nbformat_minor": 5
}
