{
 "cells": [
  {
   "cell_type": "code",
   "execution_count": null,
   "id": "942f9426",
   "metadata": {},
   "outputs": [],
   "source": [
    "import random\n",
    "import numpy\n",
    "import  matplotlib\n",
    "import pandas\n",
    "# xuexxuexi\n",
    "# import dadjaso\n",
    "\n"
   ]
  }
 ],
 "metadata": {
  "language_info": {
   "name": "python"
  }
 },
 "nbformat": 4,
 "nbformat_minor": 5
}
